{
 "cells": [
  {
   "cell_type": "code",
   "execution_count": 1,
   "metadata": {
    "collapsed": false
   },
   "outputs": [
    {
     "name": "stdout",
     "output_type": "stream",
     "text": [
      "['year,month,date_of_month,day_of_week,births', '1994,1,1,6,8096', '1994,1,2,7,7772', '1994,1,3,1,10142', '1994,1,4,2,11248', '1994,1,5,3,11053', '1994,1,6,4,11406', '1994,1,7,5,11251', '1994,1,8,6,8653']\n"
     ]
    }
   ],
   "source": [
    "f = open(\"US_births_1994-2003_CDC_NCHS.csv\",\"r\")\n",
    "file = f.read()\n",
    "data_list = file.split(\"\\n\")\n",
    "print(data_list[0:9])"
   ]
  },
  {
   "cell_type": "markdown",
   "metadata": {},
   "source": [
    "# Exe 2\n",
    "Convert string list to a list of lists without header and each value is an integer"
   ]
  },
  {
   "cell_type": "code",
   "execution_count": 2,
   "metadata": {
    "collapsed": false
   },
   "outputs": [],
   "source": [
    "def read_csv(file_name):\n",
    "    f = open(file_name,\"r\")\n",
    "    file = f.read()\n",
    "    data_list = file.split(\"\\n\") \n",
    "    string_list = data_list[1:]\n",
    "    final_list = []\n",
    "    for strin in string_list:\n",
    "        int_fields = []\n",
    "        string_fields = strin.split(',')\n",
    "        for each in string_fields:\n",
    "            int_fields.append(int(each))\n",
    "        final_list.append(int_fields)\n",
    "    return final_list"
   ]
  },
  {
   "cell_type": "code",
   "execution_count": 3,
   "metadata": {
    "collapsed": false
   },
   "outputs": [
    {
     "name": "stdout",
     "output_type": "stream",
     "text": [
      "[[1994, 1, 1, 6, 8096], [1994, 1, 2, 7, 7772], [1994, 1, 3, 1, 10142], [1994, 1, 4, 2, 11248]]\n"
     ]
    }
   ],
   "source": [
    "cdc_list = read_csv(\"US_births_1994-2003_CDC_NCHS.csv\")\n",
    "print(cdc_list[0:4])"
   ]
  },
  {
   "cell_type": "markdown",
   "metadata": {
    "collapsed": true
   },
   "source": [
    "# EXE3\n",
    "Calculations of number of births at each month"
   ]
  },
  {
   "cell_type": "code",
   "execution_count": 4,
   "metadata": {
    "collapsed": false
   },
   "outputs": [],
   "source": [
    "def month_births(data_list):\n",
    "    births_per_month = {}\n",
    "    for each in data_list:\n",
    "        if(each[1] in births_per_month):\n",
    "            births_per_month[each[1]] = births_per_month[each[1]] + each[4]\n",
    "        else:\n",
    "            births_per_month[each[1]] = each[4]\n",
    "            \n",
    "    return births_per_month\n",
    "\n",
    "\n",
    "\n",
    "        "
   ]
  },
  {
   "cell_type": "code",
   "execution_count": 5,
   "metadata": {
    "collapsed": false
   },
   "outputs": [
    {
     "data": {
      "text/plain": [
       "{1: 3232517,\n",
       " 2: 3018140,\n",
       " 3: 3322069,\n",
       " 4: 3185314,\n",
       " 5: 3350907,\n",
       " 6: 3296530,\n",
       " 7: 3498783,\n",
       " 8: 3525858,\n",
       " 9: 3439698,\n",
       " 10: 3378814,\n",
       " 11: 3171647,\n",
       " 12: 3301860}"
      ]
     },
     "execution_count": 5,
     "metadata": {},
     "output_type": "execute_result"
    }
   ],
   "source": [
    "cdc_month_births = month_births(cdc_list)\n",
    "cdc_month_births"
   ]
  },
  {
   "cell_type": "markdown",
   "metadata": {
    "collapsed": true
   },
   "source": [
    "# EXE 4\n",
    "Calculation the total number of births for each day of the week\n",
    "\n"
   ]
  },
  {
   "cell_type": "code",
   "execution_count": 6,
   "metadata": {
    "collapsed": true
   },
   "outputs": [],
   "source": [
    "def dow_births(data_list):\n",
    "    births_per_dow = {}\n",
    "    for each in data_list:\n",
    "        if(each[3] in births_per_dow):\n",
    "            births_per_dow[each[3]] = births_per_dow[each[3]] + each[4]\n",
    "        else:\n",
    "            births_per_dow[each[3]] = each[4]\n",
    "            \n",
    "    return births_per_dow"
   ]
  },
  {
   "cell_type": "code",
   "execution_count": 7,
   "metadata": {
    "collapsed": false
   },
   "outputs": [
    {
     "data": {
      "text/plain": [
       "{1: 5789166,\n",
       " 2: 6446196,\n",
       " 3: 6322855,\n",
       " 4: 6288429,\n",
       " 5: 6233657,\n",
       " 6: 4562111,\n",
       " 7: 4079723}"
      ]
     },
     "execution_count": 7,
     "metadata": {},
     "output_type": "execute_result"
    }
   ],
   "source": [
    "cdc_day_births = dow_births(cdc_list)\n",
    "cdc_day_births"
   ]
  },
  {
   "cell_type": "markdown",
   "metadata": {},
   "source": [
    "# EXE 5\n",
    "A function which calculate for each colunm the number of births days"
   ]
  },
  {
   "cell_type": "code",
   "execution_count": 8,
   "metadata": {
    "collapsed": true
   },
   "outputs": [],
   "source": [
    "def calc_counts(data_list, index):\n",
    "    births_per_row = {}\n",
    "    for each in data_list:\n",
    "        if(each[index - 1] in births_per_row):\n",
    "            births_per_row[each[index - 1]] = births_per_row[each[index - 1]] + each[4]\n",
    "        else:\n",
    "            births_per_row[each[index - 1]] = each[4]\n",
    "            \n",
    "    return births_per_row"
   ]
  },
  {
   "cell_type": "code",
   "execution_count": 9,
   "metadata": {
    "collapsed": false
   },
   "outputs": [
    {
     "name": "stdout",
     "output_type": "stream",
     "text": [
      "{2000: 4058814, 2001: 4025933, 2002: 4021726, 2003: 4089950, 1994: 3952767, 1995: 3899589, 1996: 3891494, 1997: 3880894, 1998: 3941553, 1999: 3959417}\n",
      "{1: 3232517, 2: 3018140, 3: 3322069, 4: 3185314, 5: 3350907, 6: 3296530, 7: 3498783, 8: 3525858, 9: 3439698, 10: 3378814, 11: 3171647, 12: 3301860}\n",
      "{1: 1276557, 2: 1288739, 3: 1304499, 4: 1288154, 5: 1299953, 6: 1304474, 7: 1310459, 8: 1312297, 9: 1303292, 10: 1320764, 11: 1314361, 12: 1318437, 13: 1277684, 14: 1320153, 15: 1319171, 16: 1315192, 17: 1324953, 18: 1326855, 19: 1318727, 20: 1324821, 21: 1322897, 22: 1317381, 23: 1293290, 24: 1288083, 25: 1272116, 26: 1284796, 27: 1294395, 28: 1307685, 29: 1223161, 30: 1202095, 31: 746696}\n",
      "{1: 5789166, 2: 6446196, 3: 6322855, 4: 6288429, 5: 6233657, 6: 4562111, 7: 4079723}\n"
     ]
    }
   ],
   "source": [
    "cdc_year_births = calc_counts(cdc_list, 1)\n",
    "print(cdc_year_births)\n",
    "cdc_month_births = calc_counts(cdc_list, 2)\n",
    "print(cdc_month_births)\n",
    "cdc_dom_births = calc_counts(cdc_list, 3)\n",
    "print(cdc_dom_births)\n",
    "cdc_dow_births = calc_counts(cdc_list, 4)\n",
    "print(cdc_dow_births)"
   ]
  },
  {
   "cell_type": "markdown",
   "metadata": {},
   "source": [
    "# EXE 6\n",
    "Max and Min values for any dictionary that's passed in"
   ]
  },
  {
   "cell_type": "code",
   "execution_count": 22,
   "metadata": {
    "collapsed": true
   },
   "outputs": [],
   "source": [
    "def max_min_func(data_dict):\n",
    "    begin = 0\n",
    "    for each in data_dict:\n",
    "        if begin == 0:\n",
    "            max_value = data_dict[each]\n",
    "            min_value = data_dict[each]\n",
    "            begin = 1\n",
    "        if data_dict[each] > max_value:\n",
    "            max_value = data_dict[each]\n",
    "        if data_dict[each] < min_value:\n",
    "            min_value = data_dict[each]\n",
    "    final_list = [max_value, min_value]\n",
    "    return final_list\n",
    "        \n",
    "    "
   ]
  },
  {
   "cell_type": "code",
   "execution_count": 23,
   "metadata": {
    "collapsed": false
   },
   "outputs": [
    {
     "data": {
      "text/plain": [
       "[6446196, 4079723]"
      ]
     },
     "execution_count": 23,
     "metadata": {},
     "output_type": "execute_result"
    }
   ],
   "source": [
    "a = max_min_func(cdc_dow_births)\n",
    "a"
   ]
  },
  {
   "cell_type": "markdown",
   "metadata": {},
   "source": [
    "# EXE 7\n",
    "Write a function that extracts the same values across years and calculates the differences between consecutive values to show if number of births is increasing or decreasing.\n"
   ]
  },
  {
   "cell_type": "code",
   "execution_count": null,
   "metadata": {
    "collapsed": true
   },
   "outputs": [],
   "source": [
    "def across_year(data_list, dow):\n",
    "    briths_dow_per_year = []\n",
    "    \n",
    "    begin = 0\n",
    "    for each in data_list:\n",
    "        year = each[0]\n",
    "        if data_dict[each] > max_value:\n",
    "            max_value = data_dict[each]\n",
    "        if data_dict[each] < min_value:\n",
    "            min_value = data_dict[each]\n",
    "    final_list = [max_value, min_value]\n",
    "    return final_list"
   ]
  }
 ],
 "metadata": {
  "anaconda-cloud": {},
  "kernelspec": {
   "display_name": "Python 3",
   "language": "python",
   "name": "python3"
  },
  "language_info": {
   "codemirror_mode": {
    "name": "ipython",
    "version": 3
   },
   "file_extension": ".py",
   "mimetype": "text/x-python",
   "name": "python",
   "nbconvert_exporter": "python",
   "pygments_lexer": "ipython3",
   "version": "3.4.3"
  }
 },
 "nbformat": 4,
 "nbformat_minor": 1
}
